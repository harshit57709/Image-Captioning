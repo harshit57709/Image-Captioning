{
  "nbformat": 4,
  "nbformat_minor": 0,
  "metadata": {
    "colab": {
      "name": "image captioning.ipynb",
      "provenance": [],
      "collapsed_sections": []
    },
    "kernelspec": {
      "name": "python3",
      "display_name": "Python 3"
    },
    "accelerator": "GPU"
  },
  "cells": [
    {
      "cell_type": "code",
      "metadata": {
        "id": "Rca9mhtBJDjB"
      },
      "source": [
        "import numpy as np\n",
        "import pickle\n",
        "import os\n",
        "from keras.preprocessing import sequence\n",
        "from keras.models import Sequential, Model\n",
        "from keras.layers import LSTM, Embedding, Dense, Activation, Flatten, Input, Dropout,add, concatenate, Bidirectional\n",
        "from keras.optimizers import Adam\n",
        "from keras.preprocessing import image\n",
        "from keras.preprocessing.sequence import pad_sequences\n",
        "import tensorflow as tf\n",
        "\n"
      ],
      "execution_count": 1,
      "outputs": []
    },
    {
      "cell_type": "code",
      "metadata": {
        "id": "MfWu6K9SuDz7"
      },
      "source": [
        "from tensorflow.keras.utils import plot_model"
      ],
      "execution_count": 2,
      "outputs": []
    },
    {
      "cell_type": "code",
      "metadata": {
        "id": "BejMZWo2KFKr",
        "colab": {
          "base_uri": "https://localhost:8080/"
        },
        "outputId": "d49e5215-64b9-4892-dcbe-6c230281f0ca"
      },
      "source": [
        "from google.colab import drive\n",
        "\n",
        "drive.mount('/content/gdrive')"
      ],
      "execution_count": 3,
      "outputs": [
        {
          "output_type": "stream",
          "text": [
            "Drive already mounted at /content/gdrive; to attempt to forcibly remount, call drive.mount(\"/content/gdrive\", force_remount=True).\n"
          ],
          "name": "stdout"
        }
      ]
    },
    {
      "cell_type": "code",
      "metadata": {
        "colab": {
          "base_uri": "https://localhost:8080/"
        },
        "id": "2yj6Q7xhSfNS",
        "outputId": "9cf97cba-072f-4a27-a898-28c9686118a1"
      },
      "source": [
        "print(\"Num GPUs Available: \", len(tf.config.experimental.list_physical_devices('GPU')))"
      ],
      "execution_count": 4,
      "outputs": [
        {
          "output_type": "stream",
          "text": [
            "Num GPUs Available:  1\n"
          ],
          "name": "stdout"
        }
      ]
    },
    {
      "cell_type": "code",
      "metadata": {
        "id": "T467v211JP4b"
      },
      "source": [
        "def load_doc(path,doc_name):\n",
        "    file = open(path+doc_name,\"r\")\n",
        "    doc = file.read()\n",
        "    return doc"
      ],
      "execution_count": 5,
      "outputs": []
    },
    {
      "cell_type": "code",
      "metadata": {
        "id": "6gEaZMPcKPsd",
        "colab": {
          "base_uri": "https://localhost:8080/"
        },
        "outputId": "fe358d02-6b4c-4fae-d145-b441abee50af"
      },
      "source": [
        "! ls \"/content/gdrive/My Drive/dataset/image_captioning\""
      ],
      "execution_count": 6,
      "outputs": [
        {
          "output_type": "stream",
          "text": [
            "descriptions1.txt\t  embedding_matrix.pickle    Images\n",
            "descriptions.txt\t  final_model.h5\t     train_features.pickle\n",
            "embedding_matrix1.pickle  Flickr_8k.trainImages.txt\n"
          ],
          "name": "stdout"
        }
      ]
    },
    {
      "cell_type": "code",
      "metadata": {
        "id": "kiv2Hk3SLAKE"
      },
      "source": [
        "path = \"/content/gdrive/My Drive/dataset/image_captioning\""
      ],
      "execution_count": 7,
      "outputs": []
    },
    {
      "cell_type": "code",
      "metadata": {
        "id": "v83GIjnALCbi"
      },
      "source": [
        "doc = load_doc(path, \"//descriptions1.txt\")\n",
        "descriptions = dict()\n",
        "for line in doc.split(\"\\n\"):\n",
        "    \n",
        "    if(len(line)==0):\n",
        "        break\n",
        "    tokens = line.split() #spillting line into words\n",
        "    image_id, image_desc = tokens[0], tokens[1:]\n",
        "    \n",
        "    image_id = image_id.split(\".\")[0] #we dont need the the file format\n",
        "    image_desc = \" \".join(image_desc)\n",
        "    \n",
        "    if image_id not in descriptions.keys():\n",
        "        descriptions[image_id] = list()\n",
        "    descriptions[image_id].append(image_desc)"
      ],
      "execution_count": 8,
      "outputs": []
    },
    {
      "cell_type": "code",
      "metadata": {
        "id": "KYLPBWjcLfrd",
        "colab": {
          "base_uri": "https://localhost:8080/"
        },
        "outputId": "96dcf800-0592-413e-d149-ff1f669f9936"
      },
      "source": [
        "vocabulary = set()\n",
        "for key in descriptions.keys():\n",
        "    [vocabulary.update(description.split()) for description in descriptions[key]]\n",
        "print(\"orginal vacabulary size : {}\".format(len(vocabulary))) "
      ],
      "execution_count": 9,
      "outputs": [
        {
          "output_type": "stream",
          "text": [
            "orginal vacabulary size : 8357\n"
          ],
          "name": "stdout"
        }
      ]
    },
    {
      "cell_type": "code",
      "metadata": {
        "id": "mNu4u6LbLpHv",
        "colab": {
          "base_uri": "https://localhost:8080/"
        },
        "outputId": "d4fe594f-9877-4780-82e3-cee23388291e"
      },
      "source": [
        "filename = \"//Flickr_8k.trainImages.txt\"\n",
        "doc= load_doc(path,filename)\n",
        "train = list()\n",
        "for line in doc.split(\"\\n\"):\n",
        "    image = line.split('.')[0]\n",
        "    train.append(image)\n",
        "print(\"Train_size\",len(train))\n"
      ],
      "execution_count": 10,
      "outputs": [
        {
          "output_type": "stream",
          "text": [
            "Train_size 6001\n"
          ],
          "name": "stdout"
        }
      ]
    },
    {
      "cell_type": "code",
      "metadata": {
        "id": "lNWsFLq1L5kU"
      },
      "source": [
        "train_descriptions = dict()\n",
        "for key, desc_list in descriptions.items():\n",
        "    if key in train:\n",
        "        train_descriptions[key] = desc_list"
      ],
      "execution_count": 11,
      "outputs": []
    },
    {
      "cell_type": "code",
      "metadata": {
        "id": "ww1h_is6NW56"
      },
      "source": [
        "train_descriptions_modified = dict()\n",
        "for key, desc_list in train_descriptions.items():\n",
        "  for desc in desc_list:\n",
        "    new_desc = \"startseq \" + desc +\" endseq\"\n",
        "    if key not in train_descriptions_modified:\n",
        "      train_descriptions_modified[key] = list()\n",
        "    \n",
        "    train_descriptions_modified[key].append(new_desc)"
      ],
      "execution_count": 12,
      "outputs": []
    },
    {
      "cell_type": "code",
      "metadata": {
        "id": "h_rkhDgLO5Qy",
        "colab": {
          "base_uri": "https://localhost:8080/"
        },
        "outputId": "228896af-6107-45e8-9075-0695f203d6a4"
      },
      "source": [
        "train_descriptions_modified[list(train_descriptions_modified.keys())[0]]"
      ],
      "execution_count": 13,
      "outputs": [
        {
          "output_type": "execute_result",
          "data": {
            "text/plain": [
              "['startseq child in pink dress is climbing up set of stairs in an entry way endseq',\n",
              " 'startseq girl going into wooden building endseq',\n",
              " 'startseq little girl climbing into wooden playhouse endseq',\n",
              " 'startseq little girl climbing the stairs to her playhouse endseq',\n",
              " 'startseq little girl in pink dress going into wooden cabin endseq']"
            ]
          },
          "metadata": {
            "tags": []
          },
          "execution_count": 13
        }
      ]
    },
    {
      "cell_type": "code",
      "metadata": {
        "id": "X0kEBK8iO8wB"
      },
      "source": [
        ""
      ],
      "execution_count": 13,
      "outputs": []
    },
    {
      "cell_type": "code",
      "metadata": {
        "id": "ouIH4j6HL6Qh"
      },
      "source": [
        "#creating a list of all the captions\n",
        "all_train_captions = []\n",
        "for key, desc in train_descriptions_modified.items():\n",
        "    for item in desc:\n",
        "        all_train_captions.append(item)"
      ],
      "execution_count": 14,
      "outputs": []
    },
    {
      "cell_type": "code",
      "metadata": {
        "id": "7iGgRe8LL87R",
        "colab": {
          "base_uri": "https://localhost:8080/"
        },
        "outputId": "f06fe313-800f-446f-957b-ea0c8e6cd737"
      },
      "source": [
        "#considererin only those words which are present more than the specified threshold in cosr\n",
        "threshold = 10\n",
        "word_counts = {}\n",
        "\n",
        "for caption in all_train_captions:\n",
        "    for word in caption.split():\n",
        "        word_counts[word] = word_counts.get(word,0) + 1\n",
        "        \n",
        "vocab = [word for word in word_counts if word_counts[word] >= threshold]\n",
        "\n",
        "print(\"processed words :\", len(vocab))"
      ],
      "execution_count": 15,
      "outputs": [
        {
          "output_type": "stream",
          "text": [
            "processed words : 1643\n"
          ],
          "name": "stdout"
        }
      ]
    },
    {
      "cell_type": "code",
      "metadata": {
        "id": "fuTuS2ZLQHY9"
      },
      "source": [
        "vocab_size = len(vocab)"
      ],
      "execution_count": 16,
      "outputs": []
    },
    {
      "cell_type": "code",
      "metadata": {
        "id": "Q2r_pL77MAjf"
      },
      "source": [
        "infile = open(path+\"//train_features.pickle\",'rb')\n",
        "photos = pickle.load(infile)\n",
        "infile.close()"
      ],
      "execution_count": 17,
      "outputs": []
    },
    {
      "cell_type": "code",
      "metadata": {
        "id": "ZAxEPO0JMEQx",
        "colab": {
          "base_uri": "https://localhost:8080/"
        },
        "outputId": "e550b3df-f1bd-400a-c0bc-d1498cd6230b"
      },
      "source": [
        "print(len(photos.keys()))\n"
      ],
      "execution_count": 18,
      "outputs": [
        {
          "output_type": "stream",
          "text": [
            "6000\n"
          ],
          "name": "stdout"
        }
      ]
    },
    {
      "cell_type": "code",
      "metadata": {
        "id": "f1wI91r9MOmb"
      },
      "source": [
        "wordtoix = {}\n",
        "intoword = {}\n",
        "index = 0\n",
        "for word in vocab:\n",
        "    wordtoix[word] = index\n",
        "    intoword[index] = word\n",
        "    index +=1"
      ],
      "execution_count": 19,
      "outputs": []
    },
    {
      "cell_type": "code",
      "metadata": {
        "id": "0PV2U8w-2OnG",
        "colab": {
          "base_uri": "https://localhost:8080/"
        },
        "outputId": "4fb7b7bd-19eb-42cf-d2cf-7343fc608a02"
      },
      "source": [
        "wordtoix[\"endseq\"]"
      ],
      "execution_count": 20,
      "outputs": [
        {
          "output_type": "execute_result",
          "data": {
            "text/plain": [
              "13"
            ]
          },
          "metadata": {
            "tags": []
          },
          "execution_count": 20
        }
      ]
    },
    {
      "cell_type": "code",
      "metadata": {
        "id": "41T7UqR8MjdG"
      },
      "source": [
        "def to_lines(descriptions):\n",
        "    all_desc = list()\n",
        "    for key in descriptions.keys():\n",
        "        [all_desc.append(description) for description in descriptions[key]]\n",
        "    return all_desc\n",
        "def max_length(descriptions):\n",
        "         lines = to_lines(descriptions)\n",
        "         return max([len(d.split()) for d in  lines])"
      ],
      "execution_count": 21,
      "outputs": []
    },
    {
      "cell_type": "code",
      "metadata": {
        "id": "hk2ULMzsMnUn",
        "colab": {
          "base_uri": "https://localhost:8080/"
        },
        "outputId": "a43cb5e9-6032-44d6-d8e5-0c0b6df299b7"
      },
      "source": [
        "max_len = max_length(train_descriptions_modified)\n",
        "max_len"
      ],
      "execution_count": 22,
      "outputs": [
        {
          "output_type": "execute_result",
          "data": {
            "text/plain": [
              "33"
            ]
          },
          "metadata": {
            "tags": []
          },
          "execution_count": 22
        }
      ]
    },
    {
      "cell_type": "code",
      "metadata": {
        "id": "g7S3udVORSBt"
      },
      "source": [
        "def data_generator(descriptions, photos, wordtoix, max_length, photos_per_batch):\n",
        "    X1, X2, y = list(), list(), list()\n",
        "    n=0\n",
        "    \n",
        "    #now we loop over every image and yield the data once n reaches photos_per_batch\n",
        "    while 1:\n",
        "        for key, desc_list in descriptions.items():\n",
        "            n+=1\n",
        "            #get the extracted photo features\n",
        "            photo = photos[key+'.jpg']\n",
        "\n",
        "            for desc in desc_list:\n",
        "                #encode the sequence\n",
        "                seq = [wordtoix[word] for word in desc.split() if word in wordtoix]\n",
        "                #spliting one sequence into multiple input and corresponding outpur pairs\n",
        "                for i in range(1, len(seq)):\n",
        "                    \n",
        "                    in_seq  = seq[:i]\n",
        "                    out_seq = seq[i]\n",
        "\n",
        "                    #padd input sequence\n",
        "                    in_seq = pad_sequences([in_seq], maxlen = max_len)[0]\n",
        "                    temp = out_seq\n",
        "                    out_seq = np.zeros((vocab_size,))\n",
        "                    out_seq[temp] = 1\n",
        "                    out_seq = list(out_seq)\n",
        "                    X1.append(photo)\n",
        "                    X2.append(in_seq)\n",
        "                    y.append(out_seq)\n",
        "                   \n",
        "                    #yield the data\n",
        "                if n >= photos_per_batch:\n",
        "                 yield ([np.array(X1), np.array(X2)], np.array(y))\n",
        "                 X1, X2, y = list(), list(), list()\n",
        "                 n=0\n",
        "                \n",
        "                "
      ],
      "execution_count": 23,
      "outputs": []
    },
    {
      "cell_type": "code",
      "metadata": {
        "id": "DK07SN8e91Vt",
        "colab": {
          "base_uri": "https://localhost:8080/"
        },
        "outputId": "360e9c8b-6dce-4ad7-eaa6-55755cf4c745"
      },
      "source": [
        "train_descriptions_modified[next(iter(train_descriptions_modified))]"
      ],
      "execution_count": 24,
      "outputs": [
        {
          "output_type": "execute_result",
          "data": {
            "text/plain": [
              "['startseq child in pink dress is climbing up set of stairs in an entry way endseq',\n",
              " 'startseq girl going into wooden building endseq',\n",
              " 'startseq little girl climbing into wooden playhouse endseq',\n",
              " 'startseq little girl climbing the stairs to her playhouse endseq',\n",
              " 'startseq little girl in pink dress going into wooden cabin endseq']"
            ]
          },
          "metadata": {
            "tags": []
          },
          "execution_count": 24
        }
      ]
    },
    {
      "cell_type": "code",
      "metadata": {
        "id": "VDK3VeeH9sC-",
        "colab": {
          "base_uri": "https://localhost:8080/"
        },
        "outputId": "c18a7bb9-beff-4111-9a6b-8db7856fd051"
      },
      "source": [
        "generator = data_generator(train_descriptions_modified, photos, wordtoix, max_len, 1)\n",
        "inputs, outputs = next(generator)\n",
        "print(inputs[0].shape)\n",
        "print(inputs[1].shape)\n",
        "print(outputs.shape)\n",
        "x1 = inputs[0]\n",
        "x2 = inputs[1]\n",
        "y = outputs"
      ],
      "execution_count": 25,
      "outputs": [
        {
          "output_type": "stream",
          "text": [
            "(14, 2048)\n",
            "(14, 33)\n",
            "(14, 1643)\n"
          ],
          "name": "stdout"
        }
      ]
    },
    {
      "cell_type": "code",
      "metadata": {
        "id": "iwLud252PjxG"
      },
      "source": [
        "infile = open(path+\"//embedding_matrix1.pickle\",'rb')\n",
        "embedding_matrix = pickle.load(infile)\n",
        "infile.close()"
      ],
      "execution_count": 26,
      "outputs": []
    },
    {
      "cell_type": "code",
      "metadata": {
        "id": "4RunTd1vLy0_",
        "colab": {
          "base_uri": "https://localhost:8080/"
        },
        "outputId": "4f9b0f06-0b9d-41fa-e178-ae20fc141a7e"
      },
      "source": [
        "embedding_matrix.shape"
      ],
      "execution_count": 27,
      "outputs": [
        {
          "output_type": "execute_result",
          "data": {
            "text/plain": [
              "(1643, 200)"
            ]
          },
          "metadata": {
            "tags": []
          },
          "execution_count": 27
        }
      ]
    },
    {
      "cell_type": "code",
      "metadata": {
        "id": "ixh1P0Y_QQi0"
      },
      "source": [
        "embedding_dim = embedding_matrix.shape[1]"
      ],
      "execution_count": 28,
      "outputs": []
    },
    {
      "cell_type": "code",
      "metadata": {
        "id": "3urI3YfJPwVg"
      },
      "source": [
        "#image feature extractor model\n",
        "inputs1 = Input(shape=(2048,))\n",
        "fe1     = Dropout(0.5)(inputs1)\n",
        "fe2     = Dense(256, activation=\"relu\")(fe1)\n",
        "\n"
      ],
      "execution_count": 29,
      "outputs": []
    },
    {
      "cell_type": "code",
      "metadata": {
        "id": "OFW3DnmKx6S-",
        "colab": {
          "base_uri": "https://localhost:8080/",
          "height": 68
        },
        "outputId": "9fbb0ce1-573d-49df-acc4-6173413da041"
      },
      "source": [
        "# partial caption sequence model\n",
        "'''inputs2 = Input(shape =(max_len,))\n",
        "se1     = Embedding(1643, embedding_dim, mask_zero = True)(inputs2)\n",
        "se2     = Dropout(0.5)(se1)\n",
        "#se3     = Bidirectional(LSTM(units=256, return_sequences=True, dropout=0.2, recurrent_dropout=0.2), merge_mode = 'concat')(se2)\n",
        "#se3     = LSTM(units=256, return_sequences=True, dropout=0.5, recurrent_dropout=0.2)(se2)\n",
        "se4    = LSTM(units=256, return_sequences=False, dropout=0.5, recurrent_dropout=0.5)(se2)\n",
        "'''"
      ],
      "execution_count": 30,
      "outputs": [
        {
          "output_type": "execute_result",
          "data": {
            "application/vnd.google.colaboratory.intrinsic+json": {
              "type": "string"
            },
            "text/plain": [
              "\"inputs2 = Input(shape =(max_len,))\\nse1     = Embedding(1643, embedding_dim, mask_zero = True)(inputs2)\\nse2     = Dropout(0.5)(se1)\\n#se3     = Bidirectional(LSTM(units=256, return_sequences=True, dropout=0.2, recurrent_dropout=0.2), merge_mode = 'concat')(se2)\\n#se3     = LSTM(units=256, return_sequences=True, dropout=0.5, recurrent_dropout=0.2)(se2)\\nse4    = LSTM(units=256, return_sequences=False, dropout=0.5, recurrent_dropout=0.5)(se2)\\n\""
            ]
          },
          "metadata": {
            "tags": []
          },
          "execution_count": 30
        }
      ]
    },
    {
      "cell_type": "code",
      "metadata": {
        "id": "jnpnAsEe2RkN"
      },
      "source": [
        "inputs2 = Input(shape =(max_len,))\n",
        "se1     = Embedding(1643, embedding_dim, mask_zero = True)(inputs2)\n",
        "se2     = Dropout(0.5)(se1)\n",
        "se3     = LSTM(256)(se2)"
      ],
      "execution_count": 31,
      "outputs": []
    },
    {
      "cell_type": "code",
      "metadata": {
        "id": "PqRmLvZ7yHaU"
      },
      "source": [
        "# decoder (feed forward) model\n",
        "decoder1 =concatenate([fe2, se3])\n",
        "decoder2 = Dense(256, activation='relu')(decoder1)\n",
        "outputs = Dense(1643, activation='softmax')(decoder2)"
      ],
      "execution_count": 48,
      "outputs": []
    },
    {
      "cell_type": "code",
      "metadata": {
        "id": "71Gw4ZpcQg3m"
      },
      "source": [
        "# merge the two input models\n",
        "model = Model(inputs=[inputs1, inputs2], outputs=outputs)"
      ],
      "execution_count": 49,
      "outputs": []
    },
    {
      "cell_type": "code",
      "metadata": {
        "id": "2qMZHKnWLf1S",
        "colab": {
          "base_uri": "https://localhost:8080/"
        },
        "outputId": "3c58a97a-780d-4a11-d66f-7db1ee7d73c4"
      },
      "source": [
        "\n",
        "model.layers"
      ],
      "execution_count": 50,
      "outputs": [
        {
          "output_type": "execute_result",
          "data": {
            "text/plain": [
              "[<keras.engine.input_layer.InputLayer at 0x7fdbcb0e0250>,\n",
              " <keras.engine.input_layer.InputLayer at 0x7fdbcb391c10>,\n",
              " <keras.layers.embeddings.Embedding at 0x7fdbcb0e0290>,\n",
              " <keras.layers.core.Dropout at 0x7fdbcb384190>,\n",
              " <keras.layers.core.Dropout at 0x7fdbcb0e0750>,\n",
              " <keras.layers.core.Dense at 0x7fdc15bf3490>,\n",
              " <keras.layers.recurrent_v2.LSTM at 0x7fdbcb32e7d0>,\n",
              " <keras.layers.merge.Concatenate at 0x7fd7b7f72190>,\n",
              " <keras.layers.core.Dense at 0x7fd7b7f57dd0>,\n",
              " <keras.layers.core.Dense at 0x7fdb63d4ec90>]"
            ]
          },
          "metadata": {
            "tags": []
          },
          "execution_count": 50
        }
      ]
    },
    {
      "cell_type": "code",
      "metadata": {
        "id": "i09c958PKZC7"
      },
      "source": [
        "model.layers[2].set_weights([embedding_matrix])\n",
        "model.layers[2].trainable = False"
      ],
      "execution_count": 51,
      "outputs": []
    },
    {
      "cell_type": "code",
      "metadata": {
        "id": "VudosGRDQoSP",
        "colab": {
          "base_uri": "https://localhost:8080/"
        },
        "outputId": "8d348453-1152-4fdc-c216-b889eee7de45"
      },
      "source": [
        "model.compile(loss='categorical_crossentropy', optimizer=Adam(lr = .001), metrics=['accuracy'])\n",
        "\n",
        "\n",
        "\n",
        "model.summary()"
      ],
      "execution_count": 52,
      "outputs": [
        {
          "output_type": "stream",
          "text": [
            "Model: \"model_2\"\n",
            "__________________________________________________________________________________________________\n",
            "Layer (type)                    Output Shape         Param #     Connected to                     \n",
            "==================================================================================================\n",
            "input_2 (InputLayer)            [(None, 33)]         0                                            \n",
            "__________________________________________________________________________________________________\n",
            "input_1 (InputLayer)            [(None, 2048)]       0                                            \n",
            "__________________________________________________________________________________________________\n",
            "embedding (Embedding)           (None, 33, 200)      328600      input_2[0][0]                    \n",
            "__________________________________________________________________________________________________\n",
            "dropout (Dropout)               (None, 2048)         0           input_1[0][0]                    \n",
            "__________________________________________________________________________________________________\n",
            "dropout_1 (Dropout)             (None, 33, 200)      0           embedding[0][0]                  \n",
            "__________________________________________________________________________________________________\n",
            "dense (Dense)                   (None, 256)          524544      dropout[0][0]                    \n",
            "__________________________________________________________________________________________________\n",
            "lstm (LSTM)                     (None, 256)          467968      dropout_1[0][0]                  \n",
            "__________________________________________________________________________________________________\n",
            "concatenate (Concatenate)       (None, 512)          0           dense[0][0]                      \n",
            "                                                                 lstm[0][0]                       \n",
            "__________________________________________________________________________________________________\n",
            "dense_5 (Dense)                 (None, 256)          131328      concatenate[0][0]                \n",
            "__________________________________________________________________________________________________\n",
            "dense_6 (Dense)                 (None, 1643)         422251      dense_5[0][0]                    \n",
            "==================================================================================================\n",
            "Total params: 1,874,691\n",
            "Trainable params: 1,546,091\n",
            "Non-trainable params: 328,600\n",
            "__________________________________________________________________________________________________\n"
          ],
          "name": "stdout"
        },
        {
          "output_type": "stream",
          "text": [
            "/usr/local/lib/python3.7/dist-packages/tensorflow/python/keras/optimizer_v2/optimizer_v2.py:375: UserWarning: The `lr` argument is deprecated, use `learning_rate` instead.\n",
            "  \"The `lr` argument is deprecated, use `learning_rate` instead.\")\n"
          ],
          "name": "stderr"
        }
      ]
    },
    {
      "cell_type": "code",
      "metadata": {
        "colab": {
          "base_uri": "https://localhost:8080/",
          "height": 754
        },
        "id": "fpTyC43et7-4",
        "outputId": "4e2aef18-b352-40c5-96d4-5e71d6ed0af0"
      },
      "source": [
        "plot_model(model, to_file='model_plot.png', show_shapes=True, show_layer_names=True)"
      ],
      "execution_count": 53,
      "outputs": [
        {
          "output_type": "execute_result",
          "data": {
            "image/png": "[encoded data removed]",
            "text/plain": [
              "<IPython.core.display.Image object>"
            ]
          },
          "metadata": {
            "tags": []
          },
          "execution_count": 53
        }
      ]
    },
    {
      "cell_type": "code",
      "metadata": {
        "id": "uPmCIiyGRGka",
        "colab": {
          "base_uri": "https://localhost:8080/"
        },
        "outputId": "b25f36f8-5fc9-4499-e901-13a9e863fefd"
      },
      "source": [
        "history = model.fit_generator(data_generator(descriptions=train_descriptions_modified, photos=photos, wordtoix= wordtoix, max_length = max_len, photos_per_batch=512),\n",
        "                            steps_per_epoch=int(6000/512),\n",
        "                            epochs=5)"
      ],
      "execution_count": 55,
      "outputs": [
        {
          "output_type": "stream",
          "text": [
            "/usr/local/lib/python3.7/dist-packages/keras/engine/training.py:1915: UserWarning: `Model.fit_generator` is deprecated and will be removed in a future version. Please use `Model.fit`, which supports generators.\n",
            "  warnings.warn('`Model.fit_generator` is deprecated and '\n"
          ],
          "name": "stderr"
        },
        {
          "output_type": "stream",
          "text": [
            "Epoch 1/5\n",
            "11/11 [==============================] - 97s 9s/step - loss: 2.6502 - accuracy: 0.3674\n",
            "Epoch 2/5\n",
            "11/11 [==============================] - 97s 9s/step - loss: 2.6385 - accuracy: 0.3688\n",
            "Epoch 3/5\n",
            "11/11 [==============================] - 98s 9s/step - loss: 2.6151 - accuracy: 0.3727\n",
            "Epoch 4/5\n",
            "11/11 [==============================] - 98s 9s/step - loss: 2.6107 - accuracy: 0.3739\n",
            "Epoch 5/5\n",
            "11/11 [==============================] - 97s 9s/step - loss: 2.6166 - accuracy: 0.3717\n"
          ],
          "name": "stdout"
        }
      ]
    },
    {
      "cell_type": "code",
      "metadata": {
        "id": "tJ-DMUi0Ry8H"
      },
      "source": [
        "import matplotlib.pyplot as plt"
      ],
      "execution_count": 56,
      "outputs": []
    },
    {
      "cell_type": "code",
      "metadata": {
        "id": "i6xw39CjR2A9",
        "colab": {
          "base_uri": "https://localhost:8080/",
          "height": 281
        },
        "outputId": "81f25e3b-f1ea-4159-eb24-282b87d8b267"
      },
      "source": [
        "plt.plot(history.history[\"loss\"])"
      ],
      "execution_count": 57,
      "outputs": [
        {
          "output_type": "execute_result",
          "data": {
            "text/plain": [
              "[<matplotlib.lines.Line2D at 0x7fdb63bc8390>]"
            ]
          },
          "metadata": {
            "tags": []
          },
          "execution_count": 57
        },
        {
          "output_type": "display_data",
          "data": {
            "image/png": "[encoded data removed]",
            "text/plain": [
              "<Figure size 432x288 with 1 Axes>"
            ]
          },
          "metadata": {
            "tags": [],
            "needs_background": "light"
          }
        }
      ]
    },
    {
      "cell_type": "code",
      "metadata": {
        "id": "oQyRE8Y7OzB7"
      },
      "source": [
        "model.save_weights(path+\"//final_model.h5\")"
      ],
      "execution_count": 58,
      "outputs": []
    },
    {
      "cell_type": "code",
      "metadata": {
        "id": "lrpM5aqTlXlT"
      },
      "source": [
        "model.load_weights(path+\"//final_model.h5\")"
      ],
      "execution_count": 54,
      "outputs": []
    },
    {
      "cell_type": "code",
      "metadata": {
        "id": "UCsfERtczdCz",
        "colab": {
          "base_uri": "https://localhost:8080/"
        },
        "outputId": "720ee593-a1a1-4de0-9b1a-f157861811e3"
      },
      "source": [
        "generator = data_generator(train_descriptions_modified, photos, wordtoix, max_len, 1)\n",
        "inputs, outputs = next(generator)\n",
        "print(inputs[0].shape)\n",
        "print(inputs[1].shape)\n",
        "print(outputs.shape)\n",
        "x1 = inputs[0]\n",
        "x2 = inputs[1]\n",
        "y = outputs"
      ],
      "execution_count": 59,
      "outputs": [
        {
          "output_type": "stream",
          "text": [
            "(14, 2048)\n",
            "(14, 33)\n",
            "(14, 1643)\n"
          ],
          "name": "stdout"
        }
      ]
    },
    {
      "cell_type": "code",
      "metadata": {
        "id": "oT1VElXr1VSM"
      },
      "source": [
        "out = model.predict([x1,x2])"
      ],
      "execution_count": 41,
      "outputs": []
    },
    {
      "cell_type": "code",
      "metadata": {
        "colab": {
          "base_uri": "https://localhost:8080/"
        },
        "id": "x4wCA-06V2o7",
        "outputId": "78009f9d-c072-4309-c1c2-47812705206d"
      },
      "source": [
        "len(intoword.keys())"
      ],
      "execution_count": 66,
      "outputs": [
        {
          "output_type": "execute_result",
          "data": {
            "text/plain": [
              "1643"
            ]
          },
          "metadata": {
            "tags": []
          },
          "execution_count": 66
        }
      ]
    },
    {
      "cell_type": "code",
      "metadata": {
        "id": "oxM60A1cZw09",
        "colab": {
          "base_uri": "https://localhost:8080/"
        },
        "outputId": "fbbfc7dc-2cbb-4ebf-e24a-13f8d493b028"
      },
      "source": [
        "for column in out:\n",
        "  print (intoword[np.argmax(column)])"
      ],
      "execution_count": 43,
      "outputs": [
        {
          "output_type": "stream",
          "text": [
            "woman\n",
            "in\n",
            "red\n",
            "shirt\n",
            "is\n",
            "sitting\n",
            "up\n",
            "wooden\n",
            "of\n",
            "stairs\n",
            "endseq\n",
            "front\n",
            "outdoor\n",
            "endseq\n"
          ],
          "name": "stdout"
        }
      ]
    },
    {
      "cell_type": "code",
      "metadata": {
        "id": "0PPva1_UZvpf",
        "colab": {
          "base_uri": "https://localhost:8080/",
          "height": 33
        },
        "outputId": "06c2b983-8ec2-40d6-fa7f-0c04c7d21285"
      },
      "source": [
        "max_len"
      ],
      "execution_count": null,
      "outputs": [
        {
          "output_type": "execute_result",
          "data": {
            "text/plain": [
              "33"
            ]
          },
          "metadata": {
            "tags": []
          },
          "execution_count": 57
        }
      ]
    },
    {
      "cell_type": "code",
      "metadata": {
        "id": "nKqmHhjW1upU"
      },
      "source": [
        "def get_captions(photo):\n",
        "    in_text = 'startseq'\n",
        "    for i in range(max_len):\n",
        "        sequence = [wordtoix[w] for w in in_text.split() if w in wordtoix]\n",
        "        sequence = pad_sequences([sequence], maxlen=max_len)\n",
        "        y_pred = model.predict([photo.reshape((1, 2048)),sequence])\n",
        "        y_pred = np.argmax(y_pred)\n",
        "        word = intoword[y_pred]\n",
        "        in_text += ' ' + word\n",
        "        if word == 'endseq':\n",
        "            break\n",
        "    genrated_caption = in_text.split()\n",
        "    genrated_caption = genrated_caption[1:-1]\n",
        "    genrated_caption = ' '.join(genrated_caption)\n",
        "    return genrated_caption"
      ],
      "execution_count": 60,
      "outputs": []
    },
    {
      "cell_type": "code",
      "metadata": {
        "id": "e7OagIDhVIUH",
        "colab": {
          "base_uri": "https://localhost:8080/",
          "height": 35
        },
        "outputId": "6c34a128-53af-4058-9000-d1113bf9aa59"
      },
      "source": [
        "pic = \"47871819_db55ac4699.jpg\"\n",
        "get_captions(photos[pic])\n"
      ],
      "execution_count": 63,
      "outputs": [
        {
          "output_type": "execute_result",
          "data": {
            "application/vnd.google.colaboratory.intrinsic+json": {
              "type": "string"
            },
            "text/plain": [
              "'two soccer players chasing after soccer ball'"
            ]
          },
          "metadata": {
            "tags": []
          },
          "execution_count": 63
        }
      ]
    },
    {
      "cell_type": "code",
      "metadata": {
        "colab": {
          "base_uri": "https://localhost:8080/",
          "height": 35
        },
        "id": "XTgDiLNu52xV",
        "outputId": "5b58273c-8ab2-4ae6-96d9-0c2e695b9de7"
      },
      "source": [
        "\n",
        "\n",
        "get_captions(photos[\"69189650_6687da7280.jpg\"])"
      ],
      "execution_count": 65,
      "outputs": [
        {
          "output_type": "execute_result",
          "data": {
            "application/vnd.google.colaboratory.intrinsic+json": {
              "type": "string"
            },
            "text/plain": [
              "'brown dog is running through the grass'"
            ]
          },
          "metadata": {
            "tags": []
          },
          "execution_count": 65
        }
      ]
    },
    {
      "cell_type": "code",
      "metadata": {
        "colab": {
          "base_uri": "https://localhost:8080/",
          "height": 35
        },
        "id": "52CCfCwy6JGh",
        "outputId": "59b2c2b4-9e6c-4c36-926d-0681128aa92d"
      },
      "source": [
        "get_captions(photos[\"221973402_ecb1cd51f1.jpg\"])"
      ],
      "execution_count": 71,
      "outputs": [
        {
          "output_type": "execute_result",
          "data": {
            "application/vnd.google.colaboratory.intrinsic+json": {
              "type": "string"
            },
            "text/plain": [
              "'two dogs are playing with each other in the grass'"
            ]
          },
          "metadata": {
            "tags": []
          },
          "execution_count": 71
        }
      ]
    }
  ]
}